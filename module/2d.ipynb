{
 "cells": [
  {
   "cell_type": "code",
   "execution_count": 16,
   "id": "020c98f1-f41e-4b3e-82a9-d9721fbdc68f",
   "metadata": {
    "tags": []
   },
   "outputs": [],
   "source": [
    "import pandas as pd\n",
    "import matplotlib.pyplot as plt\n",
    "import module_cert"
   ]
  },
  {
   "cell_type": "code",
   "execution_count": 17,
   "id": "d24b06fb-bbc6-4f5c-b960-db41979cdf68",
   "metadata": {
    "tags": []
   },
   "outputs": [
    {
     "data": {
      "text/html": [
       "<div>\n",
       "<style scoped>\n",
       "    .dataframe tbody tr th:only-of-type {\n",
       "        vertical-align: middle;\n",
       "    }\n",
       "\n",
       "    .dataframe tbody tr th {\n",
       "        vertical-align: top;\n",
       "    }\n",
       "\n",
       "    .dataframe thead th {\n",
       "        text-align: right;\n",
       "    }\n",
       "</style>\n",
       "<table border=\"1\" class=\"dataframe\">\n",
       "  <thead>\n",
       "    <tr style=\"text-align: right;\">\n",
       "      <th></th>\n",
       "      <th>Q-sv(20%)</th>\n",
       "      <th>Q-sv(10%)</th>\n",
       "      <th>Q-sv(2%)</th>\n",
       "      <th>Q-sv(1%)</th>\n",
       "      <th>Q-ov</th>\n",
       "      <th>L-sv(20%)</th>\n",
       "      <th>L-sv(10%)</th>\n",
       "      <th>L-sv(2%)</th>\n",
       "      <th>L-sv(1%)</th>\n",
       "      <th>L-ov</th>\n",
       "      <th>S-sv(20%)</th>\n",
       "      <th>S-sv(10%)</th>\n",
       "      <th>S-sv(2%)</th>\n",
       "      <th>S-sv(1%)</th>\n",
       "      <th>S-ov</th>\n",
       "      <th>T-sv(20%)</th>\n",
       "      <th>T-sv(10%)</th>\n",
       "      <th>T-sv(2%)</th>\n",
       "      <th>T-sv(1%)</th>\n",
       "      <th>T-ov</th>\n",
       "    </tr>\n",
       "  </thead>\n",
       "  <tbody>\n",
       "    <tr>\n",
       "      <th>0</th>\n",
       "      <td>12</td>\n",
       "      <td>16</td>\n",
       "      <td>19</td>\n",
       "      <td>20</td>\n",
       "      <td>20</td>\n",
       "      <td>3.729746</td>\n",
       "      <td>4.096997</td>\n",
       "      <td>4.183020</td>\n",
       "      <td>4.191600</td>\n",
       "      <td>4.191600</td>\n",
       "      <td>1.006548</td>\n",
       "      <td>1.137115</td>\n",
       "      <td>1.170521</td>\n",
       "      <td>1.173912</td>\n",
       "      <td>1.173912</td>\n",
       "      <td>0.013755</td>\n",
       "      <td>0.012086</td>\n",
       "      <td>0.013383</td>\n",
       "      <td>0.011640</td>\n",
       "      <td>0.011194</td>\n",
       "    </tr>\n",
       "    <tr>\n",
       "      <th>1</th>\n",
       "      <td>14</td>\n",
       "      <td>19</td>\n",
       "      <td>25</td>\n",
       "      <td>30</td>\n",
       "      <td>32</td>\n",
       "      <td>3.557433</td>\n",
       "      <td>3.735612</td>\n",
       "      <td>4.118462</td>\n",
       "      <td>4.852777</td>\n",
       "      <td>4.937546</td>\n",
       "      <td>0.966128</td>\n",
       "      <td>1.028760</td>\n",
       "      <td>1.113926</td>\n",
       "      <td>1.216228</td>\n",
       "      <td>1.232370</td>\n",
       "      <td>0.010219</td>\n",
       "      <td>0.010860</td>\n",
       "      <td>0.017641</td>\n",
       "      <td>0.018619</td>\n",
       "      <td>0.025203</td>\n",
       "    </tr>\n",
       "    <tr>\n",
       "      <th>2</th>\n",
       "      <td>11</td>\n",
       "      <td>16</td>\n",
       "      <td>27</td>\n",
       "      <td>35</td>\n",
       "      <td>37</td>\n",
       "      <td>3.388347</td>\n",
       "      <td>3.590523</td>\n",
       "      <td>4.706545</td>\n",
       "      <td>5.237729</td>\n",
       "      <td>5.175109</td>\n",
       "      <td>0.867005</td>\n",
       "      <td>0.931412</td>\n",
       "      <td>1.149445</td>\n",
       "      <td>1.326128</td>\n",
       "      <td>1.362650</td>\n",
       "      <td>0.102250</td>\n",
       "      <td>0.011310</td>\n",
       "      <td>0.017649</td>\n",
       "      <td>0.017458</td>\n",
       "      <td>0.020309</td>\n",
       "    </tr>\n",
       "    <tr>\n",
       "      <th>3</th>\n",
       "      <td>12</td>\n",
       "      <td>14</td>\n",
       "      <td>20</td>\n",
       "      <td>31</td>\n",
       "      <td>44</td>\n",
       "      <td>3.715948</td>\n",
       "      <td>3.846222</td>\n",
       "      <td>4.388313</td>\n",
       "      <td>5.730212</td>\n",
       "      <td>6.640582</td>\n",
       "      <td>1.017766</td>\n",
       "      <td>1.058707</td>\n",
       "      <td>1.193554</td>\n",
       "      <td>1.380907</td>\n",
       "      <td>1.580653</td>\n",
       "      <td>0.010273</td>\n",
       "      <td>0.011075</td>\n",
       "      <td>0.015516</td>\n",
       "      <td>0.016388</td>\n",
       "      <td>0.019528</td>\n",
       "    </tr>\n",
       "    <tr>\n",
       "      <th>4</th>\n",
       "      <td>10</td>\n",
       "      <td>15</td>\n",
       "      <td>21</td>\n",
       "      <td>22</td>\n",
       "      <td>28</td>\n",
       "      <td>3.509660</td>\n",
       "      <td>4.298483</td>\n",
       "      <td>4.762963</td>\n",
       "      <td>4.864037</td>\n",
       "      <td>5.559287</td>\n",
       "      <td>0.881815</td>\n",
       "      <td>1.082873</td>\n",
       "      <td>1.203114</td>\n",
       "      <td>1.223490</td>\n",
       "      <td>1.342973</td>\n",
       "      <td>0.009465</td>\n",
       "      <td>0.009862</td>\n",
       "      <td>0.013674</td>\n",
       "      <td>0.014798</td>\n",
       "      <td>0.015854</td>\n",
       "    </tr>\n",
       "    <tr>\n",
       "      <th>...</th>\n",
       "      <td>...</td>\n",
       "      <td>...</td>\n",
       "      <td>...</td>\n",
       "      <td>...</td>\n",
       "      <td>...</td>\n",
       "      <td>...</td>\n",
       "      <td>...</td>\n",
       "      <td>...</td>\n",
       "      <td>...</td>\n",
       "      <td>...</td>\n",
       "      <td>...</td>\n",
       "      <td>...</td>\n",
       "      <td>...</td>\n",
       "      <td>...</td>\n",
       "      <td>...</td>\n",
       "      <td>...</td>\n",
       "      <td>...</td>\n",
       "      <td>...</td>\n",
       "      <td>...</td>\n",
       "      <td>...</td>\n",
       "    </tr>\n",
       "    <tr>\n",
       "      <th>95</th>\n",
       "      <td>9</td>\n",
       "      <td>12</td>\n",
       "      <td>14</td>\n",
       "      <td>15</td>\n",
       "      <td>16</td>\n",
       "      <td>3.649678</td>\n",
       "      <td>4.044417</td>\n",
       "      <td>4.265393</td>\n",
       "      <td>4.303237</td>\n",
       "      <td>4.404436</td>\n",
       "      <td>0.924415</td>\n",
       "      <td>1.058346</td>\n",
       "      <td>1.117322</td>\n",
       "      <td>1.129526</td>\n",
       "      <td>1.155809</td>\n",
       "      <td>0.006420</td>\n",
       "      <td>0.005724</td>\n",
       "      <td>0.006841</td>\n",
       "      <td>0.008004</td>\n",
       "      <td>0.006769</td>\n",
       "    </tr>\n",
       "    <tr>\n",
       "      <th>96</th>\n",
       "      <td>13</td>\n",
       "      <td>13</td>\n",
       "      <td>16</td>\n",
       "      <td>17</td>\n",
       "      <td>22</td>\n",
       "      <td>3.793941</td>\n",
       "      <td>3.793941</td>\n",
       "      <td>3.964615</td>\n",
       "      <td>4.018301</td>\n",
       "      <td>4.963222</td>\n",
       "      <td>1.061357</td>\n",
       "      <td>1.061357</td>\n",
       "      <td>1.116867</td>\n",
       "      <td>1.128772</td>\n",
       "      <td>1.302133</td>\n",
       "      <td>0.007039</td>\n",
       "      <td>0.005428</td>\n",
       "      <td>0.008288</td>\n",
       "      <td>0.009692</td>\n",
       "      <td>0.008979</td>\n",
       "    </tr>\n",
       "    <tr>\n",
       "      <th>97</th>\n",
       "      <td>12</td>\n",
       "      <td>12</td>\n",
       "      <td>23</td>\n",
       "      <td>23</td>\n",
       "      <td>25</td>\n",
       "      <td>3.438892</td>\n",
       "      <td>3.438892</td>\n",
       "      <td>4.429355</td>\n",
       "      <td>4.429355</td>\n",
       "      <td>4.613080</td>\n",
       "      <td>0.883405</td>\n",
       "      <td>0.883405</td>\n",
       "      <td>1.101822</td>\n",
       "      <td>1.101822</td>\n",
       "      <td>1.131210</td>\n",
       "      <td>0.006302</td>\n",
       "      <td>0.006593</td>\n",
       "      <td>0.008646</td>\n",
       "      <td>0.009281</td>\n",
       "      <td>0.010806</td>\n",
       "    </tr>\n",
       "    <tr>\n",
       "      <th>98</th>\n",
       "      <td>8</td>\n",
       "      <td>13</td>\n",
       "      <td>14</td>\n",
       "      <td>14</td>\n",
       "      <td>14</td>\n",
       "      <td>3.492943</td>\n",
       "      <td>4.182394</td>\n",
       "      <td>4.345471</td>\n",
       "      <td>4.345471</td>\n",
       "      <td>4.345471</td>\n",
       "      <td>0.871174</td>\n",
       "      <td>1.104943</td>\n",
       "      <td>1.158632</td>\n",
       "      <td>1.158632</td>\n",
       "      <td>1.158632</td>\n",
       "      <td>0.005749</td>\n",
       "      <td>0.006087</td>\n",
       "      <td>0.007868</td>\n",
       "      <td>0.006118</td>\n",
       "      <td>0.006363</td>\n",
       "    </tr>\n",
       "    <tr>\n",
       "      <th>99</th>\n",
       "      <td>12</td>\n",
       "      <td>14</td>\n",
       "      <td>23</td>\n",
       "      <td>23</td>\n",
       "      <td>23</td>\n",
       "      <td>3.866413</td>\n",
       "      <td>4.016807</td>\n",
       "      <td>4.772093</td>\n",
       "      <td>4.772093</td>\n",
       "      <td>4.772093</td>\n",
       "      <td>1.022806</td>\n",
       "      <td>1.078627</td>\n",
       "      <td>1.235561</td>\n",
       "      <td>1.235561</td>\n",
       "      <td>1.235561</td>\n",
       "      <td>0.006369</td>\n",
       "      <td>0.007248</td>\n",
       "      <td>0.008924</td>\n",
       "      <td>0.009967</td>\n",
       "      <td>0.009754</td>\n",
       "    </tr>\n",
       "  </tbody>\n",
       "</table>\n",
       "<p>100 rows × 20 columns</p>\n",
       "</div>"
      ],
      "text/plain": [
       "    Q-sv(20%)  Q-sv(10%)  Q-sv(2%)  Q-sv(1%)  Q-ov  L-sv(20%)  L-sv(10%)  \\\n",
       "0          12         16        19        20    20   3.729746   4.096997   \n",
       "1          14         19        25        30    32   3.557433   3.735612   \n",
       "2          11         16        27        35    37   3.388347   3.590523   \n",
       "3          12         14        20        31    44   3.715948   3.846222   \n",
       "4          10         15        21        22    28   3.509660   4.298483   \n",
       "..        ...        ...       ...       ...   ...        ...        ...   \n",
       "95          9         12        14        15    16   3.649678   4.044417   \n",
       "96         13         13        16        17    22   3.793941   3.793941   \n",
       "97         12         12        23        23    25   3.438892   3.438892   \n",
       "98          8         13        14        14    14   3.492943   4.182394   \n",
       "99         12         14        23        23    23   3.866413   4.016807   \n",
       "\n",
       "    L-sv(2%)  L-sv(1%)      L-ov  S-sv(20%)  S-sv(10%)  S-sv(2%)  S-sv(1%)  \\\n",
       "0   4.183020  4.191600  4.191600   1.006548   1.137115  1.170521  1.173912   \n",
       "1   4.118462  4.852777  4.937546   0.966128   1.028760  1.113926  1.216228   \n",
       "2   4.706545  5.237729  5.175109   0.867005   0.931412  1.149445  1.326128   \n",
       "3   4.388313  5.730212  6.640582   1.017766   1.058707  1.193554  1.380907   \n",
       "4   4.762963  4.864037  5.559287   0.881815   1.082873  1.203114  1.223490   \n",
       "..       ...       ...       ...        ...        ...       ...       ...   \n",
       "95  4.265393  4.303237  4.404436   0.924415   1.058346  1.117322  1.129526   \n",
       "96  3.964615  4.018301  4.963222   1.061357   1.061357  1.116867  1.128772   \n",
       "97  4.429355  4.429355  4.613080   0.883405   0.883405  1.101822  1.101822   \n",
       "98  4.345471  4.345471  4.345471   0.871174   1.104943  1.158632  1.158632   \n",
       "99  4.772093  4.772093  4.772093   1.022806   1.078627  1.235561  1.235561   \n",
       "\n",
       "        S-ov  T-sv(20%)  T-sv(10%)  T-sv(2%)  T-sv(1%)      T-ov  \n",
       "0   1.173912   0.013755   0.012086  0.013383  0.011640  0.011194  \n",
       "1   1.232370   0.010219   0.010860  0.017641  0.018619  0.025203  \n",
       "2   1.362650   0.102250   0.011310  0.017649  0.017458  0.020309  \n",
       "3   1.580653   0.010273   0.011075  0.015516  0.016388  0.019528  \n",
       "4   1.342973   0.009465   0.009862  0.013674  0.014798  0.015854  \n",
       "..       ...        ...        ...       ...       ...       ...  \n",
       "95  1.155809   0.006420   0.005724  0.006841  0.008004  0.006769  \n",
       "96  1.302133   0.007039   0.005428  0.008288  0.009692  0.008979  \n",
       "97  1.131210   0.006302   0.006593  0.008646  0.009281  0.010806  \n",
       "98  1.158632   0.005749   0.006087  0.007868  0.006118  0.006363  \n",
       "99  1.235561   0.006369   0.007248  0.008924  0.009967  0.009754  \n",
       "\n",
       "[100 rows x 20 columns]"
      ]
     },
     "execution_count": 17,
     "metadata": {},
     "output_type": "execute_result"
    }
   ],
   "source": [
    "# 検定結果を取り込む\n",
    "df = pd.read_csv('result.csv', index_col=0)\n",
    "df"
   ]
  },
  {
   "cell_type": "code",
   "execution_count": 10,
   "id": "2e8d08c2-fd19-4804-9908-efee4f56bbfc",
   "metadata": {
    "tags": []
   },
   "outputs": [
    {
     "data": {
      "text/plain": [
       "Q-sv(20%)    12.290000\n",
       "Q-sv(10%)    15.760000\n",
       "Q-sv(2%)     23.320000\n",
       "Q-sv(1%)     25.770000\n",
       "Q-ov         29.190000\n",
       "L-sv(20%)     3.638002\n",
       "L-sv(10%)     3.860753\n",
       "L-sv(2%)      4.544270\n",
       "L-sv(1%)      4.745454\n",
       "L-ov          5.052458\n",
       "S-sv(20%)     0.968017\n",
       "S-sv(10%)     1.042685\n",
       "S-sv(2%)      1.191567\n",
       "S-sv(1%)      1.232339\n",
       "S-ov          1.287555\n",
       "T-sv(20%)     0.010248\n",
       "T-sv(10%)     0.009511\n",
       "T-sv(2%)      0.014541\n",
       "T-sv(1%)      0.015345\n",
       "T-ov          0.016155\n",
       "dtype: float64"
      ]
     },
     "execution_count": 10,
     "metadata": {},
     "output_type": "execute_result"
    }
   ],
   "source": [
    "# 各項目の平均値を取得する\n",
    "df_ave = df.mean()\n",
    "df.mean()"
   ]
  },
  {
   "cell_type": "code",
   "execution_count": 15,
   "id": "2c0178cb-c38e-47f0-bdfb-ce71a03d040f",
   "metadata": {
    "tags": []
   },
   "outputs": [
    {
     "data": {
      "text/plain": [
       "<Axes: >"
      ]
     },
     "execution_count": 15,
     "metadata": {},
     "output_type": "execute_result"
    },
    {
     "data": {
      "image/png": "[encoded data removed]",
      "text/plain": [
       "<Figure size 640x480 with 1 Axes>"
      ]
     },
     "metadata": {},
     "output_type": "display_data"
    }
   ],
   "source": [
    "# 可視化\n",
    "df_ave.iloc[0:5].plot.barh(color = 'blue')\n",
    "#plt.savefig('Q.png')"
   ]
  },
  {
   "cell_type": "code",
   "execution_count": 12,
   "id": "c424e278-b2cb-48c5-9d4d-4f1c5b1a4364",
   "metadata": {
    "tags": []
   },
   "outputs": [
    {
     "data": {
      "text/plain": [
       "<Axes: >"
      ]
     },
     "execution_count": 12,
     "metadata": {},
     "output_type": "execute_result"
    },
    {
     "data": {
      "image/png": "[encoded data removed]",
      "text/plain": [
       "<Figure size 640x480 with 1 Axes>"
      ]
     },
     "metadata": {},
     "output_type": "display_data"
    }
   ],
   "source": [
    "df_ave.iloc[5:10].plot.barh(color = 'blue')\n",
    "#plt.savefig('L.png')"
   ]
  },
  {
   "cell_type": "code",
   "execution_count": 13,
   "id": "2e589897-6a95-4206-94b9-13587e476e90",
   "metadata": {
    "tags": []
   },
   "outputs": [
    {
     "data": {
      "text/plain": [
       "<Axes: >"
      ]
     },
     "execution_count": 13,
     "metadata": {},
     "output_type": "execute_result"
    },
    {
     "data": {
      "image/png": "[encoded data removed]",
      "text/plain": [
       "<Figure size 640x480 with 1 Axes>"
      ]
     },
     "metadata": {},
     "output_type": "display_data"
    }
   ],
   "source": [
    "df_ave.iloc[10:15].plot.barh(color = 'blue')\n",
    "#plt.savefig('S.png')"
   ]
  },
  {
   "cell_type": "code",
   "execution_count": 14,
   "id": "4806e06f-99a5-4c86-9f5a-cc06622e660e",
   "metadata": {
    "tags": []
   },
   "outputs": [
    {
     "data": {
      "text/plain": [
       "<Axes: >"
      ]
     },
     "execution_count": 14,
     "metadata": {},
     "output_type": "execute_result"
    },
    {
     "data": {
      "image/png": "[encoded data removed]",
      "text/plain": [
       "<Figure size 640x480 with 1 Axes>"
      ]
     },
     "metadata": {},
     "output_type": "display_data"
    }
   ],
   "source": [
    "df_ave.iloc[15:20].plot.barh(color = 'blue')\n",
    "#plt.savefig('T.png')"
   ]
  },
  {
   "cell_type": "markdown",
   "id": "3c0790a3-c4fd-4651-8ba9-1ee1c9e59184",
   "metadata": {
    "tags": []
   },
   "source": [
    "## Stable volume（20%）とStable volume（10%）の代表値の差の検定"
   ]
  },
  {
   "cell_type": "code",
   "execution_count": 18,
   "id": "2df299b1-8404-48b2-ac61-6eb06a990316",
   "metadata": {
    "tags": []
   },
   "outputs": [
    {
     "name": "stdout",
     "output_type": "stream",
     "text": [
      "対応のあるデータに正規性が認められないためWilcoxonの符号順位検定を実施\n",
      "\n",
      "2群間の代表値に差があるといえる\n",
      "p-value:  4.191377119126684e-17\n",
      "\n",
      "\n",
      "対応のあるデータに正規性が認められないためWilcoxonの符号順位検定を実施\n",
      "\n",
      "2群間の代表値に差があるといえる\n",
      "p-value:  5.5719648223844e-17\n",
      "\n",
      "\n",
      "対応のあるデータに正規性が認められないためWilcoxonの符号順位検定を実施\n",
      "\n",
      "2群間の代表値に差があるといえる\n",
      "p-value:  5.5719648223844e-17\n",
      "\n",
      "\n",
      "対応のあるデータに正規性が認められないためWilcoxonの符号順位検定を実施\n",
      "\n",
      "2群間の代表値に差があるとはいえない\n",
      "p-value:  0.16902917920250482\n",
      "\n",
      "\n"
     ]
    },
    {
     "data": {
      "text/plain": [
       "0"
      ]
     },
     "execution_count": 18,
     "metadata": {},
     "output_type": "execute_result"
    }
   ],
   "source": [
    "# 検定\n",
    "module_cert.main(df.iloc[:,1], df.iloc[:,0], 0)\n",
    "module_cert.main(df.iloc[:,6], df.iloc[:,5], 0)\n",
    "module_cert.main(df.iloc[:,11], df.iloc[:,10], 0)\n",
    "module_cert.main(df.iloc[:,16], df.iloc[:,15], 0)"
   ]
  },
  {
   "cell_type": "markdown",
   "id": "aeddf475-7be0-46be-9255-c0628d5db024",
   "metadata": {
    "tags": []
   },
   "source": [
    "## Stable volume（10%）とStable volume（2%）の代表値の差の検定"
   ]
  },
  {
   "cell_type": "code",
   "execution_count": 19,
   "id": "77830d48-e32c-43e8-95c7-ba534c0ab4ca",
   "metadata": {
    "tags": []
   },
   "outputs": [
    {
     "name": "stdout",
     "output_type": "stream",
     "text": [
      "対応のあるデータに正規性が認められないためWilcoxonの符号順位検定を実施\n",
      "\n",
      "2群間の代表値に差があるといえる\n",
      "p-value:  3.584810159768829e-18\n",
      "\n",
      "\n",
      "対応のあるデータに正規性が認められないためWilcoxonの符号順位検定を実施\n",
      "\n",
      "2群間の代表値に差があるといえる\n",
      "p-value:  3.896559845095909e-18\n",
      "\n",
      "\n",
      "対応のあるデータに正規性が認められないためWilcoxonの符号順位検定を実施\n",
      "\n",
      "2群間の代表値に差があるといえる\n",
      "p-value:  3.896559845095909e-18\n",
      "\n",
      "\n",
      "対応のあるデータに正規性が認められないためWilcoxonの符号順位検定を実施\n",
      "\n",
      "2群間の代表値に差があるといえる\n",
      "p-value:  2.5581057720235416e-17\n",
      "\n",
      "\n"
     ]
    },
    {
     "data": {
      "text/plain": [
       "0"
      ]
     },
     "execution_count": 19,
     "metadata": {},
     "output_type": "execute_result"
    }
   ],
   "source": [
    "module_cert.main(df.iloc[:,2], df.iloc[:,1], 0)\n",
    "module_cert.main(df.iloc[:,7], df.iloc[:,6], 0)\n",
    "module_cert.main(df.iloc[:,12], df.iloc[:,11], 0)\n",
    "module_cert.main(df.iloc[:,17], df.iloc[:,16], 0)"
   ]
  },
  {
   "cell_type": "markdown",
   "id": "ca2b6eda-ecd8-4e52-99ec-b9c37909de21",
   "metadata": {},
   "source": [
    "## Stable volume（2%）とStable volume（1%）の代表値の差の検定"
   ]
  },
  {
   "cell_type": "code",
   "execution_count": 20,
   "id": "a9744bd6-e114-48d2-a4b3-95d91ed28da6",
   "metadata": {
    "tags": []
   },
   "outputs": [
    {
     "name": "stdout",
     "output_type": "stream",
     "text": [
      "対応のあるデータに正規性が認められないためWilcoxonの符号順位検定を実施\n",
      "\n",
      "2群間の代表値に差があるといえる\n",
      "p-value:  5.131993895176106e-15\n",
      "\n",
      "\n",
      "対応のあるデータに正規性が認められないためWilcoxonの符号順位検定を実施\n",
      "\n",
      "2群間の代表値に差があるといえる\n",
      "p-value:  1.3068931812648533e-13\n",
      "\n",
      "\n",
      "対応のあるデータに正規性が認められないためWilcoxonの符号順位検定を実施\n",
      "\n",
      "2群間の代表値に差があるといえる\n",
      "p-value:  7.849526548031477e-15\n",
      "\n",
      "\n",
      "対応のあるデータに正規性が認められないためWilcoxonの符号順位検定を実施\n",
      "\n",
      "2群間の代表値に差があるといえる\n",
      "p-value:  2.543815656953196e-09\n",
      "\n",
      "\n"
     ]
    },
    {
     "data": {
      "text/plain": [
       "0"
      ]
     },
     "execution_count": 20,
     "metadata": {},
     "output_type": "execute_result"
    }
   ],
   "source": [
    "module_cert.main(df.iloc[:,3], df.iloc[:,2], 0)\n",
    "module_cert.main(df.iloc[:,8], df.iloc[:,7], 0)\n",
    "module_cert.main(df.iloc[:,13], df.iloc[:,12], 0)\n",
    "module_cert.main(df.iloc[:,18], df.iloc[:,17], 0)"
   ]
  },
  {
   "cell_type": "markdown",
   "id": "bd0d72d0-7653-46de-95b4-694ca7a2f137",
   "metadata": {
    "tags": []
   },
   "source": [
    "## Stable volume（1%）とOptimal volume の代表値の差の検定"
   ]
  },
  {
   "cell_type": "code",
   "execution_count": 21,
   "id": "bf0e4993-40c2-45bf-acdc-c46e0cd3d13e",
   "metadata": {
    "tags": []
   },
   "outputs": [
    {
     "name": "stdout",
     "output_type": "stream",
     "text": [
      "対応のあるデータに正規性が認められないためWilcoxonの符号順位検定を実施\n",
      "\n",
      "2群間の代表値に差があるといえる\n",
      "p-value:  4.027256691179541e-16\n",
      "\n",
      "\n",
      "対応のあるデータに正規性が認められないためWilcoxonの符号順位検定を実施\n",
      "\n",
      "2群間の代表値に差があるといえる\n",
      "p-value:  3.339207795395172e-14\n",
      "\n",
      "\n",
      "対応のあるデータは正規性があるためt検定を実施\n",
      "\n",
      "2群間の平均値に差があるといえる\n",
      "T:        8.879651048313843\n",
      "p-value:  3.026241105104019e-14\n",
      "\n",
      "\n",
      "対応のあるデータに正規性が認められないためWilcoxonの符号順位検定を実施\n",
      "\n",
      "2群間の代表値に差があるといえる\n",
      "p-value:  2.6099629748671103e-05\n",
      "\n",
      "\n"
     ]
    },
    {
     "data": {
      "text/plain": [
       "0"
      ]
     },
     "execution_count": 21,
     "metadata": {},
     "output_type": "execute_result"
    }
   ],
   "source": [
    "module_cert.main(df.iloc[:,4], df.iloc[:,3], 0)\n",
    "module_cert.main(df.iloc[:,9], df.iloc[:,8], 0)\n",
    "module_cert.main(df.iloc[:,14], df.iloc[:,13], 0)\n",
    "module_cert.main(df.iloc[:,19], df.iloc[:,18], 0)"
   ]
  }
 ],
 "metadata": {
  "kernelspec": {
   "display_name": "Python 3 (ipykernel)",
   "language": "python",
   "name": "python3"
  },
  "language_info": {
   "codemirror_mode": {
    "name": "ipython",
    "version": 3
   },
   "file_extension": ".py",
   "mimetype": "text/x-python",
   "name": "python",
   "nbconvert_exporter": "python",
   "pygments_lexer": "ipython3",
   "version": "3.10.12"
  }
 },
 "nbformat": 4,
 "nbformat_minor": 5
}
