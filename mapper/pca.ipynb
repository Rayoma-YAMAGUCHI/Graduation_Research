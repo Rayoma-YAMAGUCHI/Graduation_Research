{
 "cells": [
  {
   "cell_type": "markdown",
   "id": "1539d884-e4a3-4d5b-949a-ca53cd156020",
   "metadata": {},
   "source": [
    "## 必要なモジュールをインポートする"
   ]
  },
  {
   "cell_type": "code",
   "execution_count": null,
   "id": "95cc4faa-374d-4164-8f56-91ccdb206825",
   "metadata": {},
   "outputs": [],
   "source": [
    "import pandas as pd\n",
    "import kmapper as km\n",
    "import matplotlib.pyplot as plt\n",
    "from sklearn.decomposition import PCA"
   ]
  },
  {
   "cell_type": "code",
   "execution_count": null,
   "id": "fe2389f5-6a89-4a76-9e5f-c7c2653ffe32",
   "metadata": {},
   "outputs": [],
   "source": [
    "df = pd.read_csv(\"board_shape.csv\", index_col=0)\n",
    "df_board = df.drop(df.columns[[0]], axis=1)\n",
    "df_board"
   ]
  },
  {
   "cell_type": "code",
   "execution_count": null,
   "id": "b61b30b9-7bda-4a5d-b577-9f769c7ff2b9",
   "metadata": {},
   "outputs": [],
   "source": [
    "pca = PCA()  # PCA を行ったり PCA の結果を格納したりするための変数を、pca として宣言\n",
    "pca.fit(df_board)  # PCA を実行"
   ]
  },
  {
   "cell_type": "code",
   "execution_count": null,
   "id": "e85c4dd9-7f8c-47c4-9e6b-4e8ab2048bfd",
   "metadata": {},
   "outputs": [],
   "source": [
    "# 各主成分がどのように構成されるか\n",
    "loadings = pd.DataFrame(pca.components_.T, index=df_board.columns)\n",
    "loadings"
   ]
  },
  {
   "cell_type": "code",
   "execution_count": null,
   "id": "9d356a2e-6cec-4111-83ce-ec06fea18717",
   "metadata": {},
   "outputs": [],
   "source": [
    "# 第一主成分と第二主成分における観測変数の寄与度をプロットする\n",
    "plt.figure(figsize=(6, 6))\n",
    "for x, y, name in zip(pca.components_[0], pca.components_[1], df_board.columns[0:]):\n",
    "    plt.text(x, y, name)\n",
    "plt.scatter(pca.components_[0], pca.components_[1], alpha=0.8)\n",
    "plt.grid()\n",
    "plt.xlabel(\"PC1\")\n",
    "plt.ylabel(\"PC2\")\n",
    "#plt.savefig(\"PCA_kiyo.png\")\n",
    "plt.show()"
   ]
  },
  {
   "cell_type": "code",
   "execution_count": null,
   "id": "389b65e8-c47d-4df4-b92c-66923773ee03",
   "metadata": {},
   "outputs": [],
   "source": [
    "# 各主成分に対するサンプルの値\n",
    "score = pd.DataFrame(pca.transform(df_board), index=df_board.index)\n",
    "score"
   ]
  },
  {
   "cell_type": "code",
   "execution_count": null,
   "id": "89e73fb6-78e0-4d3e-a03b-5a9eab5b0c59",
   "metadata": {},
   "outputs": [],
   "source": [
    "# 寄与率を算出\n",
    "contribution_ratios = pd.DataFrame(pca.explained_variance_ratio_)\n",
    "contribution_ratios"
   ]
  },
  {
   "cell_type": "code",
   "execution_count": null,
   "id": "faed4855-24e0-4e72-8d77-22e2e4acf540",
   "metadata": {},
   "outputs": [],
   "source": [
    "s1 = score.iloc[:,0]\n",
    "s2 = score.iloc[:,1]\n",
    "pca_1_2 = pd.concat([s1, s2], axis=1)\n",
    "pca_1_2 = pd.concat([pca_1_2, shape], axis=1)\n",
    "pca_1_2"
   ]
  },
  {
   "cell_type": "code",
   "execution_count": null,
   "id": "ed4eb5b6-f97f-4cf1-af00-7bde81e16d97",
   "metadata": {},
   "outputs": [],
   "source": [
    "def cluster(data):\n",
    "    d = data.iat[0,2]\n",
    "    dt = data.iat[5,2]\n",
    "    t = data.iat[9,2]\n",
    "    directional_x = []\n",
    "    directional_y = []\n",
    "    directional_twin_x = []\n",
    "    directional_twin_y =[]\n",
    "    twin_x = []\n",
    "    twin_y = []\n",
    "    for i in range(100):\n",
    "        if data.iat[i,2] == d:\n",
    "            directional_x += [data.iat[i,0]]\n",
    "            directional_y += [data.iat[i,1]]\n",
    "        elif data.iat[i,2] == dt:\n",
    "            directional_twin_x += [data.iat[i,0]]\n",
    "            directional_twin_y += [data.iat[i,1]]\n",
    "        else:\n",
    "            twin_x += [data.iat[i,0]]\n",
    "            twin_y += [data.iat[i,1]]\n",
    "    return directional_x, directional_y, directional_twin_x, directional_twin_y, twin_x, twin_y"
   ]
  },
  {
   "cell_type": "code",
   "execution_count": null,
   "id": "13de26ba-cde4-4716-a569-37ef6ae2c556",
   "metadata": {},
   "outputs": [],
   "source": [
    "d_x, d_y, dt_x, dt_y, t_x, t_y = cluster(pca_1_2)\n",
    "plt.scatter(d_x, d_y, c='skyblue')\n",
    "plt.scatter(dt_x, dt_y, c='r')\n",
    "plt.scatter(t_x, t_y, c='y')\n",
    "plt.xlabel('t1')\n",
    "plt.ylabel('t2')\n",
    "#plt.savefig(\"PCA_multi_less_variable.png\")\n",
    "plt.show()"
   ]
  }
 ],
 "metadata": {
  "kernelspec": {
   "display_name": "Python 3 (ipykernel)",
   "language": "python",
   "name": "python3"
  },
  "language_info": {
   "codemirror_mode": {
    "name": "ipython",
    "version": 3
   },
   "file_extension": ".py",
   "mimetype": "text/x-python",
   "name": "python",
   "nbconvert_exporter": "python",
   "pygments_lexer": "ipython3",
   "version": "3.10.12"
  }
 },
 "nbformat": 4,
 "nbformat_minor": 5
}
