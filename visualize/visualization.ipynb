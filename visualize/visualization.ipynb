{
 "cells": [
  {
   "cell_type": "code",
   "execution_count": 1,
   "id": "40d4ac66-373c-431b-a3a4-b33ac5655a48",
   "metadata": {
    "tags": []
   },
   "outputs": [],
   "source": [
    "import random \n",
    "import math\n",
    "import numpy as np\n",
    "import pyvista as pv  # PyVista (3D可視化)\n",
    "import pandas as pd\n",
    "import copy\n",
    "import homcloud.interface as hc\n",
    "import matplotlib.pyplot as plt\n",
    "pv.start_xvfb()"
   ]
  },
  {
   "cell_type": "markdown",
   "id": "33f807d5-ae21-42c9-a1d8-db4f3b2d0cfc",
   "metadata": {
    "tags": []
   },
   "source": [
    "## 解析用のデータ作成"
   ]
  },
  {
   "cell_type": "code",
   "execution_count": 2,
   "id": "dedb7d14-f75b-405c-9d29-61d02a6d3526",
   "metadata": {
    "tags": []
   },
   "outputs": [],
   "source": [
    "def tsutsu(n):\n",
    "    for i in range(n):\n",
    "        theta = 2.0 * math.pi * random.random()\n",
    "        radius = math.sqrt(random.uniform(0.25,1.0))\n",
    "        p = [[radius * math.cos(theta), radius * math.sin(theta), np.random.rand()]]\n",
    "        if i == 0:\n",
    "            data = p\n",
    "        else:\n",
    "            data = np.append(data, p, axis=0)\n",
    "    return data"
   ]
  },
  {
   "cell_type": "raw",
   "id": "862600b0-2559-4660-8f63-e0727e6bc318",
   "metadata": {
    "tags": []
   },
   "source": [
    "#optiperlp用に保存\n",
    "data_tsutsu = tsutsu(100)\n",
    "data_tsutsu_for_op = np.column_stack((data_tsutsu, np.zeros(data_tsutsu.shape[0])))\n",
    "\n",
    "file_tsutsu = open('data_tsutsu_op.txt', 'w')\n",
    "\n",
    "for i in range(len(data_tsutsu)):\n",
    "    r_0 = round(data_tsutsu_for_op[i][0], 9)\n",
    "    r_1 = round(data_tsutsu_for_op[i][1], 9)\n",
    "    r_2 = round(data_tsutsu_for_op[i][2], 9)\n",
    "    r_3 = round(data_tsutsu_for_op[i][3], 2)\n",
    "    file_tsutsu.write(str(r_0)+' '+str(r_1)+' '+str(r_2)+' '+str(r_3)+\"\\n\")\n",
    "\n",
    "file_tsutsu.close()"
   ]
  },
  {
   "cell_type": "raw",
   "id": "6c80f990-4567-48e8-a7a1-6d01f3a88292",
   "metadata": {},
   "source": [
    "#homcloud用に保存\n",
    "file = open('data_tsutsu.txt', 'w')\n",
    "\n",
    "for i in range(len(data_tsutsu)):\n",
    "    r_0 = round(data_tsutsu[i][0], 9)\n",
    "    r_1 = round(data_tsutsu[i][1], 9)\n",
    "    r_2 = round(data_tsutsu[i][2], 9)\n",
    "    file.write(str(r_0)+' '+str(r_1)+' '+str(r_2)+\"\\n\")\n",
    "\n",
    "file.close()"
   ]
  },
  {
   "cell_type": "code",
   "execution_count": 3,
   "id": "5de7b5e2-2481-4ab9-a5f9-94aaa5998eea",
   "metadata": {
    "tags": []
   },
   "outputs": [],
   "source": [
    "def randomincircle(n):\n",
    "    for i in range(n):\n",
    "        theta = 2.0 * math.pi * random.random()\n",
    "        radius = math.sqrt(random.uniform(0.25,1.0))\n",
    "        p = [[radius * math.cos(theta), radius * math.sin(theta)]]\n",
    "        if i == 0:\n",
    "            data = p\n",
    "        else:\n",
    "            data = np.append(data, p, axis=0)\n",
    "    return data"
   ]
  },
  {
   "cell_type": "raw",
   "id": "34fbac89-7987-44e6-87c7-6b82265523ec",
   "metadata": {
    "tags": []
   },
   "source": [
    "#optiperlp用に保存\n",
    "data_maru = randomincircle(100)\n",
    "data_maru = np.column_stack((data_maru, 0.00005*np.random.rand(data_maru.shape[0],1)))\n",
    "data_maru_for_op = np.column_stack((data_maru, np.zeros(data_maru.shape[0])))\n",
    "\n",
    "file_maru = open('data_maru_op.txt', 'w')\n",
    "\n",
    "for i in range(len(data_maru)):\n",
    "    r_0 = round(data_maru_for_op[i][0], 9)\n",
    "    r_1 = round(data_maru_for_op[i][1], 9)\n",
    "    r_2 = round(data_maru_for_op[i][2], 9)\n",
    "    r_3 = round(data_maru_for_op[i][3], 2)\n",
    "    file_maru.write(str(r_0)+' '+str(r_1)+' '+str(r_2)+' '+str(r_3)+\"\\n\")\n",
    "\n",
    "file_maru.close()"
   ]
  },
  {
   "cell_type": "raw",
   "id": "c70677d9-be9e-480c-8e21-75d1279b6ee5",
   "metadata": {},
   "source": [
    "#homcloud用に保存\n",
    "file = open('data_maru.txt', 'w')\n",
    "\n",
    "for i in range(len(data_maru)):\n",
    "    r_0 = round(data_maru[i][0], 9)\n",
    "    r_1 = round(data_maru[i][1], 9)\n",
    "    r_2 = round(data_maru[i][2], 9)\n",
    "    file.write(str(r_0)+' '+str(r_1)+' '+str(r_2)+\"\\n\")\n",
    "\n",
    "file.close()"
   ]
  },
  {
   "cell_type": "code",
   "execution_count": 4,
   "id": "212f965a-35b1-495c-aa06-c4d09f1b8129",
   "metadata": {
    "tags": []
   },
   "outputs": [],
   "source": [
    "def pinched_circle(n):\n",
    "    for i in range(n):\n",
    "        theta = 1.8 * math.pi * random.random()\n",
    "        radius = math.sqrt(random.uniform(0.5,1.0))\n",
    "        p = [[-radius * math.cos(theta), -radius * math.sin(theta)]]\n",
    "        if i == 0:\n",
    "            data = p\n",
    "        else:\n",
    "            if i <= n*0.8:\n",
    "                data = np.append(data, p, axis=0)\n",
    "            else:\n",
    "                theta_s = 1.25*math.pi * random.random()\n",
    "                radius_s = 0.5 * math.sqrt(random.uniform(0.25,1.0))\n",
    "                x = radius_s * math.cos(theta_s)\n",
    "                y = radius_s * math.sin(theta_s)\n",
    "                p = [[-0.85+0.5*x - 0.86*y, 0.3 + 0.86*x +0.5*y]]\n",
    "                data = np.append(data, p, axis=0)\n",
    "    return data"
   ]
  },
  {
   "cell_type": "raw",
   "id": "a462104a-960f-47f9-ac56-b2fd29e74547",
   "metadata": {
    "tags": []
   },
   "source": [
    "#optiperlp用に保存\n",
    "data_pmaru = pinched_circle(100)\n",
    "data_pmaru = np.column_stack((data_pmaru, 0.00005*np.random.rand(data_pmaru.shape[0],1)))\n",
    "data_pmaru_for_op = np.column_stack((data_pmaru, np.zeros(data_pmaru.shape[0])))\n",
    "\n",
    "file_pmaru = open('data_pinched_maru_op.txt', 'w')\n",
    "\n",
    "for i in range(len(data_pmaru)):\n",
    "    r_0 = round(data_pmaru_for_op[i][0], 9)\n",
    "    r_1 = round(data_pmaru_for_op[i][1], 9)\n",
    "    r_2 = round(data_pmaru_for_op[i][2], 9)\n",
    "    r_3 = round(data_pmaru_for_op[i][3], 2)\n",
    "    file_pmaru.write(str(r_0)+' '+str(r_1)+' '+str(r_2)+' '+str(r_3)+\"\\n\")\n",
    "\n",
    "file_pmaru.close()"
   ]
  },
  {
   "cell_type": "raw",
   "id": "a315bbef-a30a-43ea-bb70-ff9de18b77cf",
   "metadata": {},
   "source": [
    "#homcloud用に保存\n",
    "file = open('data_pinched_maru.txt', 'w')\n",
    "\n",
    "for i in range(len(data_pmaru)):\n",
    "    r_0 = round(data_pmaru[i][0], 9)\n",
    "    r_1 = round(data_pmaru[i][1], 9)\n",
    "    r_2 = round(data_pmaru[i][2], 9)\n",
    "    file.write(str(r_0)+' '+str(r_1)+' '+str(r_2)+\"\\n\")\n",
    "\n",
    "file.close()"
   ]
  },
  {
   "cell_type": "code",
   "execution_count": 7,
   "id": "df93733f-c7f8-44c3-af36-6f08a3534d75",
   "metadata": {
    "tags": []
   },
   "outputs": [],
   "source": [
    "# データファイルを扱いやすいように成形する関数\n",
    "\n",
    "def get_pairs(DataFrame):\n",
    "    df = copy.deepcopy(DataFrame)\n",
    "    pairs = []\n",
    "    pair = []\n",
    "    paths = []\n",
    "    for i in range(len(df)):\n",
    "        s = df.iloc[i, 0]\n",
    "    \n",
    "        if s[0] == ';':\n",
    "            l = [pair, paths]\n",
    "            pairs.append(l)\n",
    "            pair = []\n",
    "            paths = []\n",
    "            l = []\n",
    "            f = ''\n",
    "            for j in range(len(s)-2):\n",
    "                if not s[j+2] == '  ':\n",
    "                    f += s[j+2]\n",
    "            g = f.split()\n",
    "            pair.append(float(g[0]))\n",
    "            pair.append(float(g[1]))\n",
    "\n",
    "        else:\n",
    "            path = []\n",
    "            if s == '1':\n",
    "                path.append(df.iloc[i, 1])\n",
    "                path.append(df.iloc[i, 2])\n",
    "            elif s == '-1':\n",
    "                path.append(df.iloc[i, 2])\n",
    "                path.append(df.iloc[i, 1])\n",
    "            paths.append(path)\n",
    "\n",
    "    l = [pair, paths]\n",
    "    pairs.append(l)\n",
    "    pairs.pop(0)\n",
    "\n",
    "    return pairs"
   ]
  },
  {
   "cell_type": "code",
   "execution_count": 8,
   "id": "4d028ce7-b70b-4779-8c72-45b86357429f",
   "metadata": {
    "tags": []
   },
   "outputs": [],
   "source": [
    "# 頂点をインデックス表示から座標に変換する関数\n",
    "\n",
    "def get_pairs_coordinate(pairs, points):\n",
    "    c_pairs = copy.deepcopy(pairs)\n",
    "    d = points\n",
    "    for i in range(len(c_pairs)):\n",
    "        for j in range(len(c_pairs[i][1])):\n",
    "            p = c_pairs[i][1][j]\n",
    "            for k in range(2):\n",
    "                for l in range(len(d)):\n",
    "                    if p[k] == d[l][0]:\n",
    "                        p[k] = [d[l][1], d[l][2], d[l][3]]\n",
    "                        break\n",
    "    return c_pairs"
   ]
  },
  {
   "cell_type": "code",
   "execution_count": 9,
   "id": "d687e0bc-90e5-4f00-8a71-2ec6b854461e",
   "metadata": {
    "tags": []
   },
   "outputs": [],
   "source": [
    "# 特定の区間(b, d)の最適サイクルを返す関数\n",
    "\n",
    "def nearest_pair(pairs, b):\n",
    "    b_n = pairs[0][0][0]\n",
    "    d_n = pairs[0][0][1]\n",
    "    for i in range(len(pairs)-1):\n",
    "        if math.fabs(b - b_n) > math.fabs(b - pairs[i][0][0]):\n",
    "            b_n = pairs[i][0][0]\n",
    "            d_n = pairs[i][0][1]\n",
    "            pair = pairs[i][1]\n",
    "    return (b_n, d_n, pair)"
   ]
  },
  {
   "cell_type": "code",
   "execution_count": 10,
   "id": "8fa9e16a-9c35-432f-b638-2ab35eb0530b",
   "metadata": {
    "tags": []
   },
   "outputs": [],
   "source": [
    "def make_image_optiperlp(pair, op_i2p, op_1):\n",
    "    points = np.loadtxt(op_i2p)\n",
    "    df = pd.read_csv(op_1, names=('birth/death', 'v0', 'v1'))\n",
    "    pairs = get_pairs(df)\n",
    "    c_pairs = get_pairs_coordinate(pairs, points)\n",
    "    \n",
    "    # optiperlpの特定のペアのpathの部分だけの情報を取得する\n",
    "    line = nearest_pair(c_pairs, pair.birth)[2]\n",
    "    mesh = pv.Line(line[0][0], line[0][1])\n",
    "    for i in range(len(line)-1):\n",
    "        mesh += pv.Line(line[i+1][0], line[i+1][1])\n",
    "    return mesh"
   ]
  },
  {
   "cell_type": "code",
   "execution_count": 15,
   "id": "4aff6238-7980-4892-8c65-171245c1965f",
   "metadata": {
    "tags": []
   },
   "outputs": [],
   "source": [
    "def load(txt):\n",
    "    points = np.loadtxt(txt)\n",
    "    return points"
   ]
  },
  {
   "cell_type": "code",
   "execution_count": 29,
   "id": "13de4ec6-fdf4-45e5-af16-7a553e9a6203",
   "metadata": {
    "tags": []
   },
   "outputs": [],
   "source": [
    "data_tsutsu = load('data_tsutsu.txt')\n",
    "data_maru = load('data_maru.txt')\n",
    "data_pmaru = load('data_pinched_maru.txt')"
   ]
  },
  {
   "cell_type": "markdown",
   "id": "fb81a7f1-e09c-4843-902f-4703fe46caee",
   "metadata": {},
   "source": [
    "## 可視化と解析_tsutsu"
   ]
  },
  {
   "cell_type": "code",
   "execution_count": 30,
   "id": "c6ac2008-d103-4ead-92f6-785181ed8f01",
   "metadata": {
    "tags": []
   },
   "outputs": [
    {
     "data": {
      "text/plain": [
       "PDList(path=pointcloud-tsutsu.pdgm)"
      ]
     },
     "execution_count": 30,
     "metadata": {},
     "output_type": "execute_result"
    }
   ],
   "source": [
    "hc.PDList.from_alpha_filtration(data_tsutsu, save_boundary_map=True, save_to=\"pointcloud-tsutsu.pdgm\")"
   ]
  },
  {
   "cell_type": "code",
   "execution_count": 31,
   "id": "66713819-7ea7-4d0f-acfd-2445abc49f40",
   "metadata": {
    "tags": []
   },
   "outputs": [],
   "source": [
    "pdlist_tsutsu = hc.PDList(\"pointcloud-tsutsu.pdgm\")\n",
    "pd1_tsutsu = pdlist_tsutsu.dth_diagram(1)"
   ]
  },
  {
   "cell_type": "code",
   "execution_count": 34,
   "id": "77d95f46-4ba6-4fc6-ba10-570b250f9ce7",
   "metadata": {
    "tags": []
   },
   "outputs": [
    {
     "data": {
      "image/png": "[encoded data removed]",
      "text/plain": [
       "<Figure size 640x480 with 2 Axes>"
      ]
     },
     "metadata": {},
     "output_type": "display_data"
    }
   ],
   "source": [
    "pd1_tsutsu.histogram((0,0.35),50).plot(colorbar={\"type\": \"log\"})\n",
    "#plt.savefig(\"pointcloud_pd1_tsutsu.png\")"
   ]
  },
  {
   "cell_type": "code",
   "execution_count": 35,
   "id": "1f98d54d-584d-4566-9299-dae363cc2c17",
   "metadata": {
    "tags": []
   },
   "outputs": [
    {
     "data": {
      "text/plain": [
       "Pair(0.03812050528171212, 0.2969209900187512)"
      ]
     },
     "execution_count": 35,
     "metadata": {},
     "output_type": "execute_result"
    }
   ],
   "source": [
    "pair_tsutsu = pd1_tsutsu.nearest_pair_to(0.04, 0.30)\n",
    "pair_tsutsu"
   ]
  },
  {
   "cell_type": "code",
   "execution_count": 27,
   "id": "80791f92-0c31-4882-8a69-93ea17ee727b",
   "metadata": {
    "tags": []
   },
   "outputs": [
    {
     "data": {
      "text/plain": [
       "0.03812050528171212"
      ]
     },
     "execution_count": 27,
     "metadata": {},
     "output_type": "execute_result"
    }
   ],
   "source": [
    "pair_tsutsu.birth"
   ]
  },
  {
   "cell_type": "code",
   "execution_count": 36,
   "id": "2f2718e2-a407-4bd5-a02e-b98a548ea61b",
   "metadata": {
    "tags": []
   },
   "outputs": [],
   "source": [
    "def make_image(pair):\n",
    "    lifetime = pair.lifetime()\n",
    "    lifetime_1_10 = lifetime/10\n",
    "    lifetime_1_50 = lifetime/50\n",
    "    lifetime_1_100 = lifetime/100\n",
    "    stable_volume_1_10 = pair.stable_volume(lifetime_1_10)\n",
    "    stable_volume_1_50 = pair.stable_volume(lifetime_1_50)\n",
    "    stable_volume_1_100 = pair.stable_volume(lifetime_1_100)\n",
    "    optimal_volume = pair.optimal_volume()\n",
    "    return stable_volume_1_10.to_pyvista_boundary_mesh(), stable_volume_1_50.to_pyvista_boundary_mesh(), stable_volume_1_100.to_pyvista_boundary_mesh(), optimal_volume.to_pyvista_boundary_mesh()"
   ]
  },
  {
   "cell_type": "code",
   "execution_count": 37,
   "id": "702f6e9f-95c8-4037-85a4-ae78d6121013",
   "metadata": {
    "tags": []
   },
   "outputs": [],
   "source": [
    "mesh_sv_1_10_tsutsu, mesh_sv_1_50_tsutsu, mesh_sv_1_100_tsutsu, mesh_ov_tsustu = make_image(pair_tsutsu)"
   ]
  },
  {
   "cell_type": "code",
   "execution_count": 40,
   "id": "ba8b44f2-df98-4555-8813-6229b40e3b43",
   "metadata": {
    "tags": []
   },
   "outputs": [],
   "source": [
    "mesh_op_tsutsu = make_image_optiperlp(pair_tsutsu, 'gen_data_tsutsu_op_i2p.txt', 'gen_data_tsutsu_op_1.txt')"
   ]
  },
  {
   "cell_type": "code",
   "execution_count": 44,
   "id": "fd42f39e-46f3-4b64-a195-ea37573d3aac",
   "metadata": {
    "tags": []
   },
   "outputs": [
    {
     "data": {
      "application/vnd.jupyter.widget-view+json": {
       "model_id": "46dd47a683ab43daaa8df3e3f47bc478",
       "version_major": 2,
       "version_minor": 0
      },
      "text/plain": [
       "Widget(value=\"<iframe src='http://localhost:38001/index.html?ui=P_0x7f07972afeb0_5&reconnect=auto' style='widt…"
      ]
     },
     "metadata": {},
     "output_type": "display_data"
    }
   ],
   "source": [
    "data_tsutsu = p\n",
    "\n",
    "pl_t = pv.Plotter()\n",
    "\n",
    "pl_t.add_mesh(pv.PointSet(data_tsutsu), point_size=2)\n",
    "pl_t.add_mesh(mesh_op_tsutsu, color=\"skyblue\", line_width=5)\n",
    "pl_t.add_mesh(mesh_ov_tsustu, color=\"yellow\", line_width=2)\n",
    "pl_t.add_mesh(mesh_sv_1_10_tsutsu, color=\"blue\", line_width=2)\n",
    "#pl_t.add_mesh(mesh_sv_1_50_tsutsu, color=\"red\", line_width=2)\n",
    "#pl_t.add_mesh(mesh_sv_1_100_tsutsu, color=\"white\", line_width=2)\n",
    "\n",
    "pl_t.show()"
   ]
  },
  {
   "cell_type": "markdown",
   "id": "c09b3f6d-8d8f-4928-a248-977730e55e31",
   "metadata": {},
   "source": [
    "## 可視化と解析_maru"
   ]
  },
  {
   "cell_type": "code",
   "execution_count": 45,
   "id": "7aa8cefc-1100-4c51-ab25-39bc5ee195f2",
   "metadata": {
    "tags": []
   },
   "outputs": [
    {
     "data": {
      "text/plain": [
       "PDList(path=pointcloud-maru.pdgm)"
      ]
     },
     "execution_count": 45,
     "metadata": {},
     "output_type": "execute_result"
    }
   ],
   "source": [
    "hc.PDList.from_alpha_filtration(data_maru, save_boundary_map=True, save_to=\"pointcloud-maru.pdgm\")"
   ]
  },
  {
   "cell_type": "code",
   "execution_count": 46,
   "id": "aa478c4e-22a3-4b57-8350-d84c6b5400c0",
   "metadata": {
    "tags": []
   },
   "outputs": [],
   "source": [
    "pdlist_maru = hc.PDList(\"pointcloud-maru.pdgm\")\n",
    "pd1_maru = pdlist_maru.dth_diagram(1)"
   ]
  },
  {
   "cell_type": "code",
   "execution_count": 47,
   "id": "9ea923f6-5ecc-4a23-a222-ac8721ef5440",
   "metadata": {
    "tags": []
   },
   "outputs": [
    {
     "data": {
      "image/png": "[encoded data removed]",
      "text/plain": [
       "<Figure size 640x480 with 2 Axes>"
      ]
     },
     "metadata": {},
     "output_type": "display_data"
    }
   ],
   "source": [
    "pd1_maru.histogram((0,0.3),50).plot(colorbar={\"type\": \"log\"})\n",
    "plt.savefig(\"pointcloud_pd1_maru.png\")"
   ]
  },
  {
   "cell_type": "code",
   "execution_count": 48,
   "id": "8b780774-2296-4268-9ee7-69dc90fed837",
   "metadata": {
    "tags": []
   },
   "outputs": [
    {
     "data": {
      "text/plain": [
       "Pair(0.019498285317257988, 0.2599659778826891)"
      ]
     },
     "execution_count": 48,
     "metadata": {},
     "output_type": "execute_result"
    }
   ],
   "source": [
    "pair_maru = pd1_maru.nearest_pair_to(0.025, 0.26)\n",
    "pair_maru"
   ]
  },
  {
   "cell_type": "code",
   "execution_count": 49,
   "id": "8a3f80fb-d54d-4136-b6ba-05d48b87b3e5",
   "metadata": {
    "tags": []
   },
   "outputs": [],
   "source": [
    "mesh_sv_1_10_maru, mesh_sv_1_50_maru, mesh_sv_1_100_maru, mesh_ov_maru = make_image(pair_maru)"
   ]
  },
  {
   "cell_type": "code",
   "execution_count": 50,
   "id": "db2327c7-caf0-49c4-a123-4438c0734024",
   "metadata": {
    "tags": []
   },
   "outputs": [],
   "source": [
    "mesh_op_maru = make_image_optiperlp(pair_maru, 'gen_data_maru_op_i2p.txt', 'gen_data_maru_op_1.txt')"
   ]
  },
  {
   "cell_type": "code",
   "execution_count": 51,
   "id": "e3125b7b-3a92-4278-b192-694dcf818d57",
   "metadata": {
    "tags": []
   },
   "outputs": [
    {
     "data": {
      "application/vnd.jupyter.widget-view+json": {
       "model_id": "5a3305e9f6cd489ea493dcb7dd6a734c",
       "version_major": 2,
       "version_minor": 0
      },
      "text/plain": [
       "Widget(value=\"<iframe src='http://localhost:38001/index.html?ui=P_0x7f07973658a0_6&reconnect=auto' style='widt…"
      ]
     },
     "metadata": {},
     "output_type": "display_data"
    }
   ],
   "source": [
    "pl_m = pv.Plotter()\n",
    "\n",
    "pl_m.add_mesh(pv.PointSet(data_maru), point_size=5)\n",
    "pl_m.add_mesh(mesh_op_maru, color=\"skyblue\", line_width=2)\n",
    "pl_m.add_mesh(mesh_ov_maru, color=\"yellow\", line_width=3)\n",
    "#pl_m.add_mesh(mesh_sv_1_10_maru, color=\"blue\", line_width=2)\n",
    "#pl_m.add_mesh(mesh_sv_1_50_maru, color=\"red\", line_width=4)\n",
    "#pl_m.add_mesh(mesh_sv_1_100_maru, color=\"white\", line_width=2)\n",
    "\n",
    "pl_m.show()"
   ]
  },
  {
   "cell_type": "markdown",
   "id": "8377d665-d920-493f-b8c8-4027215b6660",
   "metadata": {},
   "source": [
    "## 可視化と解析_pmaru"
   ]
  },
  {
   "cell_type": "code",
   "execution_count": 52,
   "id": "30ea1f71-6b2d-4230-abde-a7a19c5b8742",
   "metadata": {
    "tags": []
   },
   "outputs": [
    {
     "data": {
      "text/plain": [
       "PDList(path=pointcloud-pinched_maru.pdgm)"
      ]
     },
     "execution_count": 52,
     "metadata": {},
     "output_type": "execute_result"
    }
   ],
   "source": [
    "hc.PDList.from_alpha_filtration(data_pmaru, save_boundary_map=True, save_to=\"pointcloud-pinched_maru.pdgm\")"
   ]
  },
  {
   "cell_type": "code",
   "execution_count": 53,
   "id": "4e5ba270-ca75-47fd-b727-fb6c3bcbf79b",
   "metadata": {
    "tags": []
   },
   "outputs": [],
   "source": [
    "pdlist_pmaru = hc.PDList(\"pointcloud-pinched_maru.pdgm\")\n",
    "pd1_pmaru = pdlist_pmaru.dth_diagram(1)"
   ]
  },
  {
   "cell_type": "code",
   "execution_count": 54,
   "id": "fe23b715-679d-43f8-b54c-ccb63f5b7755",
   "metadata": {
    "tags": []
   },
   "outputs": [
    {
     "data": {
      "image/png": "[encoded data removed]",
      "text/plain": [
       "<Figure size 640x480 with 2 Axes>"
      ]
     },
     "metadata": {},
     "output_type": "display_data"
    }
   ],
   "source": [
    "pd1_pmaru.histogram((0,0.6),50).plot(colorbar={\"type\": \"log\"})\n",
    "plt.savefig(\"pointcloud_pd1_pinched_maru.png\")"
   ]
  },
  {
   "cell_type": "code",
   "execution_count": 55,
   "id": "bdc42e10-5213-4527-9b60-d88ecc7fd3a3",
   "metadata": {
    "tags": []
   },
   "outputs": [
    {
     "data": {
      "text/plain": [
       "Pair(0.019706067106302724, 0.5140882590743279)"
      ]
     },
     "execution_count": 55,
     "metadata": {},
     "output_type": "execute_result"
    }
   ],
   "source": [
    "pair_pmaru = pd1_pmaru.nearest_pair_to(0.025, 0.5)\n",
    "pair_pmaru"
   ]
  },
  {
   "cell_type": "code",
   "execution_count": 56,
   "id": "631839a9-1466-484b-ad3e-d05294cfa5fe",
   "metadata": {
    "tags": []
   },
   "outputs": [],
   "source": [
    "mesh_sv_1_10_pmaru, mesh_sv_1_50_pmaru, mesh_sv_1_100_pmaru, mesh_ov_pmaru = make_image(pair_pmaru)"
   ]
  },
  {
   "cell_type": "code",
   "execution_count": 57,
   "id": "c57cd1e9-fde5-424f-9c94-c405266e8831",
   "metadata": {
    "tags": []
   },
   "outputs": [],
   "source": [
    "mesh_op_pmaru = make_image_optiperlp(pair_pmaru, 'gen_data_pinched_maru_op_i2p.txt', 'gen_data_pinched_maru_op_1.txt')"
   ]
  },
  {
   "cell_type": "code",
   "execution_count": 58,
   "id": "ef1231c3-d303-4e6c-bdcf-4428ea393022",
   "metadata": {
    "tags": []
   },
   "outputs": [
    {
     "data": {
      "application/vnd.jupyter.widget-view+json": {
       "model_id": "dc170a23515f4eeea2fc0c8f61a37c89",
       "version_major": 2,
       "version_minor": 0
      },
      "text/plain": [
       "Widget(value=\"<iframe src='http://localhost:38001/index.html?ui=P_0x7f07974ad870_7&reconnect=auto' style='widt…"
      ]
     },
     "metadata": {},
     "output_type": "display_data"
    }
   ],
   "source": [
    "pl_p = pv.Plotter()\n",
    "\n",
    "pl_p.add_mesh(pv.PointSet(data_pmaru), point_size=5)\n",
    "pl_p.add_mesh(mesh_op_pmaru, color=\"skyblue\", line_width=2)\n",
    "pl_p.add_mesh(mesh_ov_pmaru, color=\"yellow\", line_width=3)\n",
    "pl_p.add_mesh(mesh_sv_1_10_pmaru, color=\"blue\", line_width=2)\n",
    "pl_p.add_mesh(mesh_sv_1_50_pmaru, color=\"red\", line_width=4)\n",
    "pl_p.add_mesh(mesh_sv_1_100_pmaru, color=\"white\", line_width=2)\n",
    "\n",
    "pl_p.show()"
   ]
  }
 ],
 "metadata": {
  "kernelspec": {
   "display_name": "Python 3 (ipykernel)",
   "language": "python",
   "name": "python3"
  },
  "language_info": {
   "codemirror_mode": {
    "name": "ipython",
    "version": 3
   },
   "file_extension": ".py",
   "mimetype": "text/x-python",
   "name": "python",
   "nbconvert_exporter": "python",
   "pygments_lexer": "ipython3",
   "version": "3.10.12"
  }
 },
 "nbformat": 4,
 "nbformat_minor": 5
}
